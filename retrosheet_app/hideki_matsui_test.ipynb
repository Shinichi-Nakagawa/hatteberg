{
 "cells": [
  {
   "cell_type": "code",
   "execution_count": 1,
   "metadata": {
    "collapsed": true
   },
   "outputs": [],
   "source": [
    "%matplotlib inline\n",
    "import csv\n",
    "import pandas as pd\n",
    "import seaborn as sns\n",
    "import matplotlib.pyplot as plt\n",
    "from retrosheet_controller import RetroSheetDataController\n",
    "from analyze_batter import AnalyzeBatter"
   ]
  },
  {
   "cell_type": "code",
   "execution_count": 2,
   "metadata": {
    "collapsed": true
   },
   "outputs": [],
   "source": [
    "# Data controller\n",
    "client = RetroSheetDataController()\n",
    "# 分析用のUtilクラス(引数：RETROSHEETを取り扱う用のUtilクラス)\n",
    "analyzer = AnalyzeBatter()"
   ]
  },
  {
   "cell_type": "code",
   "execution_count": 3,
   "metadata": {
    "collapsed": true
   },
   "outputs": [],
   "source": [
    "# 2004年および2011年の松井秀喜成績データを読み込む\n",
    "df2004 = client.batter_event_by_hits('Hideki', 'Matsui', 2004)\n",
    "df2011 = client.batter_event_by_hits('Hideki', 'Matsui', 2011)"
   ]
  },
  {
   "cell_type": "code",
   "execution_count": 4,
   "metadata": {
    "collapsed": true
   },
   "outputs": [],
   "source": [
    "# 内野・外野に飛んだ打球をヒットの種類ごとに数え上げ\n",
    "hit_charts2004 = analyzer.hit_location_data(df2004)\n",
    "hit_charts2011 = analyzer.hit_location_data(df2011)"
   ]
  },
  {
   "cell_type": "code",
   "execution_count": 5,
   "metadata": {
    "collapsed": false
   },
   "outputs": [
    {
     "data": {
      "text/plain": [
       "<matplotlib.axes._subplots.AxesSubplot at 0x1076f0be0>"
      ]
     },
     "execution_count": 5,
     "metadata": {},
     "output_type": "execute_result"
    },
    {
     "data": {
      "image/png": "[encoded data removed]",
      "text/plain": [
       "<matplotlib.figure.Figure at 0x1076ca048>"
      ]
     },
     "metadata": {},
     "output_type": "display_data"
    }
   ],
   "source": [
    "# 棒グラフとして表示(2004年、外野)\n",
    "dfpos2004 = pd.DataFrame(hit_charts2004.get('of'))\n",
    "dfpos2004.T.plot(kind='bar', stacked=True, ylim=(0, 100), title='Hideki Matsui(2004/NYY)')"
   ]
  },
  {
   "cell_type": "code",
   "execution_count": 6,
   "metadata": {
    "collapsed": false
   },
   "outputs": [
    {
     "data": {
      "text/plain": [
       "<matplotlib.axes._subplots.AxesSubplot at 0x10779dc18>"
      ]
     },
     "execution_count": 6,
     "metadata": {},
     "output_type": "execute_result"
    },
    {
     "data": {
      "image/png": "[encoded data removed]",
      "text/plain": [
       "<matplotlib.figure.Figure at 0x10777edd8>"
      ]
     },
     "metadata": {},
     "output_type": "display_data"
    }
   ],
   "source": [
    "# 棒グラフとして表示(2011年、外野)\n",
    "\n",
    "dfpos2011 = pd.DataFrame(hit_charts2011.get('of'))\n",
    "dfpos2011.T.plot(kind='bar', stacked=True, ylim=(0, 100), title='Hideki Matsui(2011/OAK)')"
   ]
  },
  {
   "cell_type": "code",
   "execution_count": 8,
   "metadata": {
    "collapsed": false
   },
   "outputs": [
    {
     "name": "stdout",
     "output_type": "stream",
     "text": [
      "{'pitches': 5, 'strike': 1, 'pickoff': 0, 'ball_count': {'strike': 1, 'ball': 3}, 'event': ('DGR', 'D'), 'seq': ['ball', 'ball', 'foul', 'ball', 'ball put into play by batter'], 'ball': 3}\n",
      "{'pitches': 1, 'strike': 0, 'pickoff': 0, 'ball_count': {'strike': 0, 'ball': 0}, 'event': ('S',), 'seq': ['ball put into play by batter'], 'ball': 0}\n",
      "{'pitches': 4, 'strike': 1, 'pickoff': 0, 'ball_count': {'strike': 1, 'ball': 2}, 'event': ('HR',), 'seq': ['ball', 'swinging strike', 'ball', 'ball put into play by batter'], 'ball': 2}\n",
      "{'pitches': 5, 'strike': 1, 'pickoff': 0, 'ball_count': {'strike': 1, 'ball': 3}, 'event': ('S',), 'seq': ['ball', 'ball', 'foul', 'ball', 'ball put into play by batter'], 'ball': 3}\n",
      "{'pitches': 4, 'strike': 2, 'pickoff': 0, 'ball_count': {'strike': 2, 'ball': 1}, 'event': ('DGR', 'D'), 'seq': ['marker for play not involving the batter', 'marker for play not involving the batter', 'called strike', 'ball', 'called strike', 'ball put into play by batter'], 'ball': 1}\n",
      "{'pitches': 2, 'strike': 0, 'pickoff': 0, 'ball_count': {'strike': 0, 'ball': 1}, 'event': ('S',), 'seq': ['ball', 'ball put into play by batter'], 'ball': 1}\n",
      "{'pitches': 11, 'strike': 7, 'pickoff': 1, 'ball_count': {'strike': 2, 'ball': 3}, 'event': ('S',), 'seq': ['called strike', 'called strike', 'foul', 'ball', 'foul', 'ball', 'following pickoff throw by the catcher', 'pickoff throw to first', 'ball', 'foul', 'foul', 'indicates a runner going on the pitch', 'foul', 'indicates a runner going on the pitch', 'ball put into play by batter'], 'ball': 3}\n",
      "{'pitches': 3, 'strike': 2, 'pickoff': 0, 'ball_count': {'strike': 2, 'ball': 0}, 'event': ('S',), 'seq': ['called strike', 'swinging strike', 'ball put into play by batter'], 'ball': 0}\n",
      "{'pitches': 3, 'strike': 0, 'pickoff': 0, 'ball_count': {'strike': 0, 'ball': 2}, 'event': ('S',), 'seq': ['indicates the following pitch was blocked by the catcher', 'ball', 'indicates the following pitch was blocked by the catcher', 'ball', 'ball put into play by batter'], 'ball': 2}\n",
      "{'pitches': 4, 'strike': 1, 'pickoff': 0, 'ball_count': {'strike': 1, 'ball': 2}, 'event': ('DGR', 'D'), 'seq': ['called strike', 'ball', 'ball', 'ball put into play by batter'], 'ball': 2}\n",
      "{'pitches': 1, 'strike': 0, 'pickoff': 0, 'ball_count': {'strike': 0, 'ball': 0}, 'event': ('S',), 'seq': ['ball put into play by batter'], 'ball': 0}\n",
      "{'pitches': 3, 'strike': 2, 'pickoff': 0, 'ball_count': {'strike': 2, 'ball': 0}, 'event': ('S',), 'seq': ['called strike', 'swinging strike', 'ball put into play by batter'], 'ball': 0}\n",
      "{'pitches': 5, 'strike': 2, 'pickoff': 0, 'ball_count': {'strike': 2, 'ball': 2}, 'event': ('S',), 'seq': ['called strike', 'ball', 'called strike', 'ball', 'ball put into play by batter'], 'ball': 2}\n",
      "{'pitches': 1, 'strike': 0, 'pickoff': 0, 'ball_count': {'strike': 0, 'ball': 0}, 'event': ('DGR', 'D'), 'seq': ['ball put into play by batter'], 'ball': 0}\n",
      "{'pitches': 1, 'strike': 0, 'pickoff': 0, 'ball_count': {'strike': 0, 'ball': 0}, 'event': ('S',), 'seq': ['marker for play not involving the batter', 'ball put into play by batter'], 'ball': 0}\n",
      "{'pitches': 6, 'strike': 2, 'pickoff': 0, 'ball_count': {'strike': 2, 'ball': 3}, 'event': ('S',), 'seq': ['ball', 'ball', 'ball', 'called strike', 'called strike', 'ball put into play by batter'], 'ball': 3}\n",
      "{'pitches': 3, 'strike': 0, 'pickoff': 0, 'ball_count': {'strike': 0, 'ball': 2}, 'event': ('HR',), 'seq': ['ball', 'ball', 'ball put into play by batter'], 'ball': 2}\n",
      "{'pitches': 2, 'strike': 1, 'pickoff': 0, 'ball_count': {'strike': 1, 'ball': 0}, 'event': ('S',), 'seq': ['called strike', 'ball put into play by batter'], 'ball': 0}\n",
      "{'pitches': 6, 'strike': 2, 'pickoff': 0, 'ball_count': {'strike': 2, 'ball': 3}, 'event': ('S',), 'seq': ['called strike', 'ball', 'foul', 'ball', 'ball', 'ball put into play by batter'], 'ball': 3}\n",
      "{'pitches': 2, 'strike': 1, 'pickoff': 0, 'ball_count': {'strike': 1, 'ball': 0}, 'event': ('S',), 'seq': ['called strike', 'ball put into play by batter'], 'ball': 0}\n",
      "{'pitches': 2, 'strike': 0, 'pickoff': 0, 'ball_count': {'strike': 0, 'ball': 1}, 'event': ('S',), 'seq': ['ball', 'indicates a runner going on the pitch', 'ball put into play by batter'], 'ball': 1}\n",
      "{'pitches': 2, 'strike': 0, 'pickoff': 0, 'ball_count': {'strike': 0, 'ball': 1}, 'event': ('S',), 'seq': ['ball', 'ball put into play by batter'], 'ball': 1}\n",
      "{'pitches': 1, 'strike': 0, 'pickoff': 0, 'ball_count': {'strike': 0, 'ball': 0}, 'event': ('HR',), 'seq': ['ball put into play by batter'], 'ball': 0}\n",
      "{'pitches': 3, 'strike': 1, 'pickoff': 0, 'ball_count': {'strike': 1, 'ball': 1}, 'event': ('DGR', 'D'), 'seq': ['called strike', 'ball', 'ball put into play by batter'], 'ball': 1}\n",
      "{'pitches': 1, 'strike': 0, 'pickoff': 0, 'ball_count': {'strike': 0, 'ball': 0}, 'event': ('S',), 'seq': ['ball put into play by batter'], 'ball': 0}\n",
      "{'pitches': 1, 'strike': 0, 'pickoff': 0, 'ball_count': {'strike': 0, 'ball': 0}, 'event': ('S',), 'seq': ['ball put into play by batter'], 'ball': 0}\n",
      "{'pitches': 4, 'strike': 0, 'pickoff': 1, 'ball_count': {'strike': 0, 'ball': 3}, 'event': ('DGR', 'D'), 'seq': ['ball', 'pickoff throw to first', 'ball', 'ball', 'ball put into play by batter'], 'ball': 3}\n",
      "{'pitches': 1, 'strike': 0, 'pickoff': 0, 'ball_count': {'strike': 0, 'ball': 0}, 'event': ('S',), 'seq': ['ball put into play by batter'], 'ball': 0}\n",
      "{'pitches': 3, 'strike': 1, 'pickoff': 0, 'ball_count': {'strike': 1, 'ball': 1}, 'event': ('S',), 'seq': ['called strike', 'ball', 'ball put into play by batter'], 'ball': 1}\n",
      "{'pitches': 6, 'strike': 2, 'pickoff': 0, 'ball_count': {'strike': 2, 'ball': 3}, 'event': ('S',), 'seq': ['called strike', 'ball', 'ball', 'foul', 'ball', 'indicates a runner going on the pitch', 'ball put into play by batter'], 'ball': 3}\n",
      "{'pitches': 1, 'strike': 0, 'pickoff': 0, 'ball_count': {'strike': 0, 'ball': 0}, 'event': ('S',), 'seq': ['ball put into play by batter'], 'ball': 0}\n",
      "{'pitches': 5, 'strike': 2, 'pickoff': 0, 'ball_count': {'strike': 2, 'ball': 2}, 'event': ('S',), 'seq': ['ball', 'called strike', 'ball', 'called strike', 'ball put into play by batter'], 'ball': 2}\n",
      "{'pitches': 1, 'strike': 0, 'pickoff': 0, 'ball_count': {'strike': 0, 'ball': 0}, 'event': ('HR',), 'seq': ['ball put into play by batter'], 'ball': 0}\n",
      "{'pitches': 2, 'strike': 0, 'pickoff': 0, 'ball_count': {'strike': 0, 'ball': 1}, 'event': ('DGR', 'D'), 'seq': ['ball', 'ball put into play by batter'], 'ball': 1}\n",
      "{'pitches': 6, 'strike': 3, 'pickoff': 0, 'ball_count': {'strike': 2, 'ball': 2}, 'event': ('DGR', 'D'), 'seq': ['ball', 'foul', 'called strike', 'ball', 'foul', 'ball put into play by batter'], 'ball': 2}\n",
      "{'pitches': 6, 'strike': 3, 'pickoff': 0, 'ball_count': {'strike': 2, 'ball': 2}, 'event': ('HR',), 'seq': ['indicates the following pitch was blocked by the catcher', 'ball', 'foul tip', 'called strike', 'foul', 'ball', 'ball put into play by batter'], 'ball': 2}\n",
      "{'pitches': 3, 'strike': 1, 'pickoff': 0, 'ball_count': {'strike': 1, 'ball': 1}, 'event': ('S',), 'seq': ['called strike', 'ball', 'ball put into play by batter'], 'ball': 1}\n",
      "{'pitches': 1, 'strike': 0, 'pickoff': 0, 'ball_count': {'strike': 0, 'ball': 0}, 'event': ('HR',), 'seq': ['ball put into play by batter'], 'ball': 0}\n",
      "{'pitches': 4, 'strike': 2, 'pickoff': 0, 'ball_count': {'strike': 2, 'ball': 1}, 'event': ('S',), 'seq': ['ball', 'called strike', 'foul', 'ball put into play by batter'], 'ball': 1}\n",
      "{'pitches': 3, 'strike': 0, 'pickoff': 0, 'ball_count': {'strike': 0, 'ball': 2}, 'event': ('S',), 'seq': ['ball', 'ball', 'ball put into play by batter'], 'ball': 2}\n",
      "{'pitches': 2, 'strike': 1, 'pickoff': 0, 'ball_count': {'strike': 1, 'ball': 0}, 'event': ('S',), 'seq': ['swinging strike', 'ball put into play by batter'], 'ball': 0}\n",
      "{'pitches': 1, 'strike': 0, 'pickoff': 0, 'ball_count': {'strike': 0, 'ball': 0}, 'event': ('S',), 'seq': ['ball put into play by batter'], 'ball': 0}\n",
      "{'pitches': 2, 'strike': 0, 'pickoff': 0, 'ball_count': {'strike': 0, 'ball': 1}, 'event': ('S',), 'seq': ['ball', 'ball put into play by batter'], 'ball': 1}\n",
      "{'pitches': 1, 'strike': 0, 'pickoff': 0, 'ball_count': {'strike': 0, 'ball': 0}, 'event': ('DGR', 'D'), 'seq': ['ball put into play by batter'], 'ball': 0}\n",
      "{'pitches': 6, 'strike': 2, 'pickoff': 0, 'ball_count': {'strike': 2, 'ball': 3}, 'event': ('DGR', 'D'), 'seq': ['ball', 'ball', 'called strike', 'foul', 'ball', 'ball put into play by batter'], 'ball': 3}\n",
      "{'pitches': 1, 'strike': 0, 'pickoff': 0, 'ball_count': {'strike': 0, 'ball': 0}, 'event': ('S',), 'seq': ['ball put into play by batter'], 'ball': 0}\n",
      "{'pitches': 3, 'strike': 0, 'pickoff': 0, 'ball_count': {'strike': 0, 'ball': 2}, 'event': ('T',), 'seq': ['marker for play not involving the batter', 'marker for play not involving the batter', 'marker for play not involving the batter', 'ball', 'ball', 'ball put into play by batter'], 'ball': 2}\n",
      "{'pitches': 4, 'strike': 2, 'pickoff': 0, 'ball_count': {'strike': 2, 'ball': 1}, 'event': ('HR',), 'seq': ['marker for play not involving the batter', 'called strike', 'called strike', 'ball', 'ball put into play by batter'], 'ball': 1}\n",
      "{'pitches': 1, 'strike': 0, 'pickoff': 0, 'ball_count': {'strike': 0, 'ball': 0}, 'event': ('S',), 'seq': ['ball put into play by batter'], 'ball': 0}\n",
      "{'pitches': 6, 'strike': 2, 'pickoff': 0, 'ball_count': {'strike': 2, 'ball': 3}, 'event': ('DGR', 'D'), 'seq': ['ball', 'ball', 'called strike', 'called strike', 'ball', 'indicates a runner going on the pitch', 'ball put into play by batter'], 'ball': 3}\n",
      "{'pitches': 2, 'strike': 1, 'pickoff': 0, 'ball_count': {'strike': 1, 'ball': 0}, 'event': ('S',), 'seq': ['marker for play not involving the batter', 'called strike', 'ball put into play by batter'], 'ball': 0}\n",
      "{'pitches': 5, 'strike': 1, 'pickoff': 0, 'ball_count': {'strike': 1, 'ball': 3}, 'event': ('S',), 'seq': ['ball', 'ball', 'ball', 'called strike', 'ball put into play by batter'], 'ball': 3}\n",
      "{'pitches': 2, 'strike': 0, 'pickoff': 0, 'ball_count': {'strike': 0, 'ball': 1}, 'event': ('HR',), 'seq': ['ball', 'ball put into play by batter'], 'ball': 1}\n",
      "{'pitches': 3, 'strike': 0, 'pickoff': 0, 'ball_count': {'strike': 0, 'ball': 2}, 'event': ('S',), 'seq': ['ball', 'ball', 'ball put into play by batter'], 'ball': 2}\n",
      "{'pitches': 6, 'strike': 2, 'pickoff': 0, 'ball_count': {'strike': 2, 'ball': 3}, 'event': ('S',), 'seq': ['ball', 'ball', 'called strike', 'ball', 'called strike', 'ball put into play by batter'], 'ball': 3}\n",
      "{'pitches': 2, 'strike': 0, 'pickoff': 0, 'ball_count': {'strike': 0, 'ball': 1}, 'event': ('S',), 'seq': ['ball', 'ball put into play by batter'], 'ball': 1}\n",
      "{'pitches': 2, 'strike': 0, 'pickoff': 0, 'ball_count': {'strike': 0, 'ball': 1}, 'event': ('HR',), 'seq': ['ball', 'ball put into play by batter'], 'ball': 1}\n",
      "{'pitches': 4, 'strike': 2, 'pickoff': 0, 'ball_count': {'strike': 2, 'ball': 1}, 'event': ('S',), 'seq': ['called strike', 'ball', 'foul', 'ball put into play by batter'], 'ball': 1}\n",
      "{'pitches': 6, 'strike': 2, 'pickoff': 1, 'ball_count': {'strike': 2, 'ball': 3}, 'event': ('S',), 'seq': ['pickoff throw to first', 'ball', 'ball', 'ball', 'swinging strike', 'called strike', 'ball put into play by batter'], 'ball': 3}\n",
      "{'pitches': 2, 'strike': 0, 'pickoff': 0, 'ball_count': {'strike': 0, 'ball': 1}, 'event': ('HR',), 'seq': ['ball', 'ball put into play by batter'], 'ball': 1}\n",
      "{'pitches': 1, 'strike': 0, 'pickoff': 0, 'ball_count': {'strike': 0, 'ball': 0}, 'event': ('S',), 'seq': ['ball put into play by batter'], 'ball': 0}\n",
      "{'pitches': 2, 'strike': 0, 'pickoff': 0, 'ball_count': {'strike': 0, 'ball': 1}, 'event': ('DGR', 'D'), 'seq': ['ball', 'ball put into play by batter'], 'ball': 1}\n",
      "{'pitches': 1, 'strike': 0, 'pickoff': 0, 'ball_count': {'strike': 0, 'ball': 0}, 'event': ('S',), 'seq': ['ball put into play by batter'], 'ball': 0}\n",
      "{'pitches': 3, 'strike': 0, 'pickoff': 0, 'ball_count': {'strike': 0, 'ball': 2}, 'event': ('HR',), 'seq': ['ball', 'ball', 'ball put into play by batter'], 'ball': 2}\n",
      "{'pitches': 2, 'strike': 1, 'pickoff': 0, 'ball_count': {'strike': 1, 'ball': 0}, 'event': ('S',), 'seq': ['called strike', 'ball put into play by batter'], 'ball': 0}\n",
      "{'pitches': 1, 'strike': 0, 'pickoff': 0, 'ball_count': {'strike': 0, 'ball': 0}, 'event': ('S',), 'seq': ['marker for play not involving the batter', 'ball put into play by batter'], 'ball': 0}\n",
      "{'pitches': 3, 'strike': 2, 'pickoff': 0, 'ball_count': {'strike': 2, 'ball': 0}, 'event': ('HR',), 'seq': ['foul', 'called strike', 'ball put into play by batter'], 'ball': 0}\n",
      "{'pitches': 2, 'strike': 0, 'pickoff': 0, 'ball_count': {'strike': 0, 'ball': 1}, 'event': ('HR',), 'seq': ['ball', 'ball put into play by batter'], 'ball': 1}\n",
      "{'pitches': 3, 'strike': 1, 'pickoff': 0, 'ball_count': {'strike': 1, 'ball': 1}, 'event': ('T',), 'seq': ['marker for play not involving the batter', 'ball', 'called strike', 'ball put into play by batter'], 'ball': 1}\n",
      "{'pitches': 1, 'strike': 0, 'pickoff': 0, 'ball_count': {'strike': 0, 'ball': 0}, 'event': ('S',), 'seq': ['ball put into play by batter'], 'ball': 0}\n",
      "{'pitches': 4, 'strike': 3, 'pickoff': 0, 'ball_count': {'strike': 2, 'ball': 0}, 'event': ('S',), 'seq': ['called strike', 'called strike', 'foul', 'ball put into play by batter'], 'ball': 0}\n",
      "{'pitches': 3, 'strike': 0, 'pickoff': 0, 'ball_count': {'strike': 0, 'ball': 2}, 'event': ('S',), 'seq': ['indicates the following pitch was blocked by the catcher', 'ball', 'ball', 'ball put into play by batter'], 'ball': 2}\n",
      "{'pitches': 6, 'strike': 2, 'pickoff': 0, 'ball_count': {'strike': 2, 'ball': 3}, 'event': ('HR',), 'seq': ['ball', 'called strike', 'ball', 'called strike', 'ball', 'ball put into play by batter'], 'ball': 3}\n",
      "{'pitches': 1, 'strike': 0, 'pickoff': 0, 'ball_count': {'strike': 0, 'ball': 0}, 'event': ('HR',), 'seq': ['marker for play not involving the batter', 'ball put into play by batter'], 'ball': 0}\n",
      "{'pitches': 3, 'strike': 0, 'pickoff': 0, 'ball_count': {'strike': 0, 'ball': 2}, 'event': ('S',), 'seq': ['ball', 'ball', 'ball put into play by batter'], 'ball': 2}\n",
      "{'pitches': 7, 'strike': 3, 'pickoff': 0, 'ball_count': {'strike': 2, 'ball': 3}, 'event': ('S',), 'seq': ['ball', 'ball', 'called strike', 'called strike', 'foul', 'indicates a runner going on the pitch', 'ball', 'marker for play not involving the batter', 'ball put into play by batter'], 'ball': 3}\n",
      "{'pitches': 4, 'strike': 2, 'pickoff': 0, 'ball_count': {'strike': 2, 'ball': 1}, 'event': ('S',), 'seq': ['marker for play not involving the batter', 'called strike', 'foul', 'ball', 'ball put into play by batter'], 'ball': 1}\n",
      "{'pitches': 1, 'strike': 0, 'pickoff': 0, 'ball_count': {'strike': 0, 'ball': 0}, 'event': ('S',), 'seq': ['ball put into play by batter'], 'ball': 0}\n",
      "{'pitches': 2, 'strike': 1, 'pickoff': 0, 'ball_count': {'strike': 1, 'ball': 0}, 'event': ('S',), 'seq': ['called strike', 'ball put into play by batter'], 'ball': 0}\n",
      "{'pitches': 4, 'strike': 2, 'pickoff': 1, 'ball_count': {'strike': 2, 'ball': 1}, 'event': ('S',), 'seq': ['called strike', 'ball', 'pickoff throw to first', 'swinging strike', 'ball put into play by batter'], 'ball': 1}\n",
      "{'pitches': 4, 'strike': 1, 'pickoff': 0, 'ball_count': {'strike': 1, 'ball': 2}, 'event': ('DGR', 'D'), 'seq': ['marker for play not involving the batter', 'called strike', 'ball', 'ball', 'ball put into play by batter'], 'ball': 2}\n",
      "{'pitches': 4, 'strike': 2, 'pickoff': 0, 'ball_count': {'strike': 2, 'ball': 1}, 'event': ('S',), 'seq': ['foul', 'called strike', 'ball', 'ball put into play by batter'], 'ball': 1}\n",
      "{'pitches': 3, 'strike': 0, 'pickoff': 0, 'ball_count': {'strike': 0, 'ball': 2}, 'event': ('HR',), 'seq': ['ball', 'ball', 'ball put into play by batter'], 'ball': 2}\n",
      "{'pitches': 2, 'strike': 1, 'pickoff': 0, 'ball_count': {'strike': 1, 'ball': 0}, 'event': ('S',), 'seq': ['called strike', 'ball put into play by batter'], 'ball': 0}\n",
      "{'pitches': 1, 'strike': 0, 'pickoff': 0, 'ball_count': {'strike': 0, 'ball': 0}, 'event': ('S',), 'seq': ['ball put into play by batter'], 'ball': 0}\n",
      "{'pitches': 1, 'strike': 0, 'pickoff': 0, 'ball_count': {'strike': 0, 'ball': 0}, 'event': ('S',), 'seq': ['ball put into play by batter'], 'ball': 0}\n",
      "{'pitches': 1, 'strike': 0, 'pickoff': 0, 'ball_count': {'strike': 0, 'ball': 0}, 'event': ('DGR', 'D'), 'seq': ['marker for play not involving the batter', 'ball put into play by batter'], 'ball': 0}\n",
      "{'pitches': 3, 'strike': 2, 'pickoff': 0, 'ball_count': {'strike': 2, 'ball': 0}, 'event': ('S',), 'seq': ['called strike', 'called strike', 'ball put into play by batter'], 'ball': 0}\n",
      "{'pitches': 5, 'strike': 4, 'pickoff': 0, 'ball_count': {'strike': 2, 'ball': 0}, 'event': ('DGR', 'D'), 'seq': ['called strike', 'foul', 'foul', 'foul', 'ball put into play by batter'], 'ball': 0}\n",
      "{'pitches': 7, 'strike': 4, 'pickoff': 0, 'ball_count': {'strike': 2, 'ball': 2}, 'event': ('S',), 'seq': ['called strike', 'ball', 'called strike', 'ball', 'foul', 'foul', 'ball put into play by batter'], 'ball': 2}\n",
      "{'pitches': 2, 'strike': 1, 'pickoff': 0, 'ball_count': {'strike': 1, 'ball': 0}, 'event': ('S',), 'seq': ['marker for play not involving the batter', 'called strike', 'ball put into play by batter'], 'ball': 0}\n",
      "{'pitches': 3, 'strike': 2, 'pickoff': 0, 'ball_count': {'strike': 2, 'ball': 0}, 'event': ('S',), 'seq': ['marker for play not involving the batter', 'called strike', 'foul', 'ball put into play by batter'], 'ball': 0}\n",
      "{'pitches': 3, 'strike': 0, 'pickoff': 0, 'ball_count': {'strike': 0, 'ball': 2}, 'event': ('HR',), 'seq': ['ball', 'ball', 'ball put into play by batter'], 'ball': 2}\n",
      "{'pitches': 4, 'strike': 1, 'pickoff': 0, 'ball_count': {'strike': 1, 'ball': 2}, 'event': ('HR',), 'seq': ['ball', 'ball', 'foul', 'ball put into play by batter'], 'ball': 2}\n",
      "{'pitches': 6, 'strike': 4, 'pickoff': 0, 'ball_count': {'strike': 2, 'ball': 1}, 'event': ('S',), 'seq': ['foul', 'foul', 'foul', 'ball', 'foul', 'ball put into play by batter'], 'ball': 1}\n",
      "{'pitches': 2, 'strike': 0, 'pickoff': 0, 'ball_count': {'strike': 0, 'ball': 1}, 'event': ('DGR', 'D'), 'seq': ['ball', 'ball put into play by batter'], 'ball': 1}\n",
      "{'pitches': 2, 'strike': 1, 'pickoff': 0, 'ball_count': {'strike': 1, 'ball': 0}, 'event': ('S',), 'seq': ['swinging strike', 'ball put into play by batter'], 'ball': 0}\n",
      "{'pitches': 6, 'strike': 2, 'pickoff': 0, 'ball_count': {'strike': 2, 'ball': 3}, 'event': ('S',), 'seq': ['ball', 'ball', 'foul', 'ball', 'swinging strike', 'ball put into play by batter'], 'ball': 3}\n",
      "{'pitches': 3, 'strike': 0, 'pickoff': 0, 'ball_count': {'strike': 0, 'ball': 2}, 'event': ('DGR', 'D'), 'seq': ['ball', 'ball', 'ball put into play by batter'], 'ball': 2}\n",
      "{'pitches': 2, 'strike': 0, 'pickoff': 0, 'ball_count': {'strike': 0, 'ball': 1}, 'event': ('S',), 'seq': ['ball', 'ball put into play by batter'], 'ball': 1}\n",
      "{'pitches': 2, 'strike': 1, 'pickoff': 0, 'ball_count': {'strike': 1, 'ball': 0}, 'event': ('DGR', 'D'), 'seq': ['called strike', 'ball put into play by batter'], 'ball': 0}\n",
      "{'pitches': 2, 'strike': 1, 'pickoff': 0, 'ball_count': {'strike': 1, 'ball': 0}, 'event': ('HR',), 'seq': ['swinging strike', 'ball put into play by batter'], 'ball': 0}\n",
      "{'pitches': 4, 'strike': 2, 'pickoff': 0, 'ball_count': {'strike': 2, 'ball': 1}, 'event': ('S',), 'seq': ['called strike', 'ball', 'foul', 'ball put into play by batter'], 'ball': 1}\n",
      "{'pitches': 7, 'strike': 4, 'pickoff': 0, 'ball_count': {'strike': 2, 'ball': 2}, 'event': ('S',), 'seq': ['called strike', 'ball', 'foul tip', 'foul', 'ball', 'foul', 'ball put into play by batter'], 'ball': 2}\n",
      "{'pitches': 5, 'strike': 1, 'pickoff': 0, 'ball_count': {'strike': 1, 'ball': 3}, 'event': ('S',), 'seq': ['ball', 'ball', 'ball', 'called strike', 'ball put into play by batter'], 'ball': 3}\n",
      "{'pitches': 6, 'strike': 2, 'pickoff': 0, 'ball_count': {'strike': 2, 'ball': 3}, 'event': ('S',), 'seq': ['called strike', 'ball', 'ball', 'swinging strike', 'ball', 'ball put into play by batter'], 'ball': 3}\n",
      "{'pitches': 4, 'strike': 1, 'pickoff': 0, 'ball_count': {'strike': 1, 'ball': 2}, 'event': ('S',), 'seq': ['ball', 'ball', 'called strike', 'ball put into play by batter'], 'ball': 2}\n",
      "{'pitches': 3, 'strike': 0, 'pickoff': 0, 'ball_count': {'strike': 0, 'ball': 2}, 'event': ('S',), 'seq': ['ball', 'ball', 'ball put into play by batter'], 'ball': 2}\n",
      "{'pitches': 6, 'strike': 3, 'pickoff': 0, 'ball_count': {'strike': 2, 'ball': 1}, 'event': ('S',), 'seq': ['pitchout', 'ball', 'called strike', 'called strike', 'foul', 'ball put into play by batter'], 'ball': 1}\n",
      "{'pitches': 7, 'strike': 3, 'pickoff': 0, 'ball_count': {'strike': 2, 'ball': 3}, 'event': ('S',), 'seq': ['ball', 'called strike', 'ball', 'called strike', 'ball', 'foul', 'ball put into play by batter'], 'ball': 3}\n",
      "{'pitches': 1, 'strike': 0, 'pickoff': 0, 'ball_count': {'strike': 0, 'ball': 0}, 'event': ('DGR', 'D'), 'seq': ['ball put into play by batter'], 'ball': 0}\n",
      "{'pitches': 3, 'strike': 1, 'pickoff': 0, 'ball_count': {'strike': 1, 'ball': 1}, 'event': ('S',), 'seq': ['called strike', 'ball', 'ball put into play by batter'], 'ball': 1}\n",
      "{'pitches': 2, 'strike': 0, 'pickoff': 0, 'ball_count': {'strike': 0, 'ball': 1}, 'event': ('DGR', 'D'), 'seq': ['ball', 'ball put into play by batter'], 'ball': 1}\n",
      "{'pitches': 1, 'strike': 0, 'pickoff': 0, 'ball_count': {'strike': 0, 'ball': 0}, 'event': ('HR',), 'seq': ['ball put into play by batter'], 'ball': 0}\n",
      "{'pitches': 1, 'strike': 0, 'pickoff': 1, 'ball_count': {'strike': 0, 'ball': 0}, 'event': ('S',), 'seq': ['pickoff throw to first', 'ball put into play by batter'], 'ball': 0}\n",
      "{'pitches': 3, 'strike': 1, 'pickoff': 0, 'ball_count': {'strike': 1, 'ball': 1}, 'event': ('S',), 'seq': ['ball', 'called strike', 'ball put into play by batter'], 'ball': 1}\n",
      "{'pitches': 1, 'strike': 0, 'pickoff': 0, 'ball_count': {'strike': 0, 'ball': 0}, 'event': ('HR',), 'seq': ['ball put into play by batter'], 'ball': 0}\n",
      "{'pitches': 4, 'strike': 1, 'pickoff': 0, 'ball_count': {'strike': 1, 'ball': 2}, 'event': ('HR',), 'seq': ['ball', 'ball', 'swinging strike', 'ball put into play by batter'], 'ball': 2}\n",
      "{'pitches': 5, 'strike': 1, 'pickoff': 0, 'ball_count': {'strike': 1, 'ball': 3}, 'event': ('S',), 'seq': ['ball', 'ball', 'called strike', 'ball', 'ball put into play by batter'], 'ball': 3}\n",
      "{'pitches': 1, 'strike': 0, 'pickoff': 0, 'ball_count': {'strike': 0, 'ball': 0}, 'event': ('S',), 'seq': ['ball put into play by batter'], 'ball': 0}\n",
      "{'pitches': 5, 'strike': 1, 'pickoff': 0, 'ball_count': {'strike': 1, 'ball': 3}, 'event': ('S',), 'seq': ['ball', 'ball', 'foul', 'ball', 'indicates a runner going on the pitch', 'ball put into play by batter'], 'ball': 3}\n",
      "{'pitches': 4, 'strike': 1, 'pickoff': 0, 'ball_count': {'strike': 1, 'ball': 2}, 'event': ('S',), 'seq': ['ball', 'ball', 'called strike', 'ball put into play by batter'], 'ball': 2}\n",
      "{'pitches': 2, 'strike': 0, 'pickoff': 0, 'ball_count': {'strike': 0, 'ball': 1}, 'event': ('HR',), 'seq': ['ball', 'ball put into play by batter'], 'ball': 1}\n",
      "{'pitches': 4, 'strike': 2, 'pickoff': 0, 'ball_count': {'strike': 2, 'ball': 1}, 'event': ('S',), 'seq': ['called strike', 'called strike', 'ball', 'ball put into play by batter'], 'ball': 1}\n",
      "{'pitches': 2, 'strike': 0, 'pickoff': 0, 'ball_count': {'strike': 0, 'ball': 1}, 'event': ('DGR', 'D'), 'seq': ['ball', 'ball put into play by batter'], 'ball': 1}\n",
      "{'pitches': 2, 'strike': 1, 'pickoff': 0, 'ball_count': {'strike': 1, 'ball': 0}, 'event': ('S',), 'seq': ['called strike', 'ball put into play by batter'], 'ball': 0}\n",
      "{'pitches': 4, 'strike': 1, 'pickoff': 0, 'ball_count': {'strike': 1, 'ball': 2}, 'event': ('DGR', 'D'), 'seq': ['ball', 'ball', 'foul', 'ball put into play by batter'], 'ball': 2}\n",
      "{'pitches': 2, 'strike': 1, 'pickoff': 0, 'ball_count': {'strike': 1, 'ball': 0}, 'event': ('HR',), 'seq': ['swinging strike', 'ball put into play by batter'], 'ball': 0}\n",
      "{'pitches': 1, 'strike': 0, 'pickoff': 0, 'ball_count': {'strike': 0, 'ball': 0}, 'event': ('S',), 'seq': ['ball put into play by batter'], 'ball': 0}\n",
      "{'pitches': 1, 'strike': 0, 'pickoff': 0, 'ball_count': {'strike': 0, 'ball': 0}, 'event': ('S',), 'seq': ['ball put into play by batter'], 'ball': 0}\n",
      "{'pitches': 3, 'strike': 0, 'pickoff': 0, 'ball_count': {'strike': 0, 'ball': 2}, 'event': ('DGR', 'D'), 'seq': ['ball', 'ball', 'ball put into play by batter'], 'ball': 2}\n",
      "{'pitches': 6, 'strike': 2, 'pickoff': 0, 'ball_count': {'strike': 2, 'ball': 3}, 'event': ('S',), 'seq': ['indicates a runner going on the pitch', 'ball', 'marker for play not involving the batter', 'called strike', 'ball', 'called strike', 'ball', 'ball put into play by batter'], 'ball': 3}\n",
      "{'pitches': 4, 'strike': 2, 'pickoff': 0, 'ball_count': {'strike': 2, 'ball': 1}, 'event': ('DGR', 'D'), 'seq': ['foul', 'ball', 'foul', 'ball put into play by batter'], 'ball': 1}\n",
      "{'pitches': 2, 'strike': 1, 'pickoff': 0, 'ball_count': {'strike': 1, 'ball': 0}, 'event': ('S',), 'seq': ['called strike', 'ball put into play by batter'], 'ball': 0}\n",
      "{'pitches': 3, 'strike': 2, 'pickoff': 0, 'ball_count': {'strike': 2, 'ball': 0}, 'event': ('DGR', 'D'), 'seq': ['called strike', 'foul', 'ball put into play by batter'], 'ball': 0}\n",
      "{'pitches': 7, 'strike': 2, 'pickoff': 2, 'ball_count': {'strike': 2, 'ball': 2}, 'event': ('S',), 'seq': ['pitchout', 'called strike', 'pickoff throw to first', 'called strike', 'ball', 'ball', 'pickoff throw to first', 'no pitch (on balks and interference calls)', 'marker for play not involving the batter', 'ball put into play by batter'], 'ball': 2}\n",
      "{'pitches': 4, 'strike': 2, 'pickoff': 0, 'ball_count': {'strike': 2, 'ball': 1}, 'event': ('HR',), 'seq': ['foul', 'called strike', 'ball', 'ball put into play by batter'], 'ball': 1}\n",
      "{'pitches': 1, 'strike': 0, 'pickoff': 0, 'ball_count': {'strike': 0, 'ball': 0}, 'event': ('S',), 'seq': ['ball put into play by batter'], 'ball': 0}\n",
      "{'pitches': 1, 'strike': 0, 'pickoff': 0, 'ball_count': {'strike': 0, 'ball': 0}, 'event': ('S',), 'seq': ['ball put into play by batter'], 'ball': 0}\n",
      "{'pitches': 4, 'strike': 2, 'pickoff': 0, 'ball_count': {'strike': 2, 'ball': 1}, 'event': ('S',), 'seq': ['indicates the following pitch was blocked by the catcher', 'ball', 'foul', 'called strike', 'ball put into play by batter'], 'ball': 1}\n",
      "{'pitches': 1, 'strike': 0, 'pickoff': 1, 'ball_count': {'strike': 0, 'ball': 0}, 'event': ('S',), 'seq': ['pickoff throw to first', 'ball put into play by batter'], 'ball': 0}\n",
      "{'pitches': 4, 'strike': 1, 'pickoff': 0, 'ball_count': {'strike': 1, 'ball': 2}, 'event': ('S',), 'seq': ['ball', 'called strike', 'ball', 'ball put into play by batter'], 'ball': 2}\n",
      "{'pitches': 5, 'strike': 1, 'pickoff': 0, 'ball_count': {'strike': 1, 'ball': 3}, 'event': ('S',), 'seq': ['foul', 'ball', 'ball', 'ball', 'ball put into play by batter'], 'ball': 3}\n",
      "{'pitches': 4, 'strike': 1, 'pickoff': 0, 'ball_count': {'strike': 1, 'ball': 2}, 'event': ('DGR', 'D'), 'seq': ['ball', 'ball', 'called strike', 'ball put into play by batter'], 'ball': 2}\n",
      "{'pitches': 6, 'strike': 2, 'pickoff': 0, 'ball_count': {'strike': 2, 'ball': 3}, 'event': ('S',), 'seq': ['called strike', 'ball', 'called strike', 'ball', 'ball', 'ball put into play by batter'], 'ball': 3}\n",
      "{'pitches': 6, 'strike': 4, 'pickoff': 0, 'ball_count': {'strike': 2, 'ball': 1}, 'event': ('DGR', 'D'), 'seq': ['called strike', 'foul', 'foul', 'ball', 'foul', 'ball put into play by batter'], 'ball': 1}\n",
      "{'pitches': 3, 'strike': 1, 'pickoff': 0, 'ball_count': {'strike': 1, 'ball': 1}, 'event': ('S',), 'seq': ['ball', 'called strike', 'ball put into play by batter'], 'ball': 1}\n",
      "{'pitches': 6, 'strike': 2, 'pickoff': 1, 'ball_count': {'strike': 2, 'ball': 3}, 'event': ('S',), 'seq': ['ball', 'foul', 'ball', 'pickoff throw to first', 'ball', 'foul', 'indicates a runner going on the pitch', 'ball put into play by batter'], 'ball': 3}\n",
      "{'pitches': 4, 'strike': 2, 'pickoff': 0, 'ball_count': {'strike': 2, 'ball': 1}, 'event': ('DGR', 'D'), 'seq': ['called strike', 'ball', 'foul', 'ball put into play by batter'], 'ball': 1}\n",
      "{'pitches': 3, 'strike': 1, 'pickoff': 0, 'ball_count': {'strike': 1, 'ball': 1}, 'event': ('S',), 'seq': ['ball', 'called strike', 'ball put into play by batter'], 'ball': 1}\n",
      "{'pitches': 3, 'strike': 0, 'pickoff': 1, 'ball_count': {'strike': 0, 'ball': 2}, 'event': ('DGR', 'D'), 'seq': ['marker for play not involving the batter', 'ball', 'ball', 'pickoff throw to first', 'ball put into play by batter'], 'ball': 2}\n",
      "{'pitches': 5, 'strike': 1, 'pickoff': 0, 'ball_count': {'strike': 1, 'ball': 3}, 'event': ('S',), 'seq': ['called strike', 'ball', 'ball', 'ball', 'ball put into play by batter'], 'ball': 3}\n",
      "{'pitches': 7, 'strike': 3, 'pickoff': 0, 'ball_count': {'strike': 2, 'ball': 3}, 'event': ('S',), 'seq': ['ball', 'foul', 'ball', 'called strike', 'ball', 'foul', 'ball put into play by batter'], 'ball': 3}\n",
      "{'pitches': 7, 'strike': 3, 'pickoff': 0, 'ball_count': {'strike': 2, 'ball': 3}, 'event': ('S',), 'seq': ['marker for play not involving the batter', 'foul', 'called strike', 'ball', 'foul', 'ball', 'ball', 'ball put into play by batter'], 'ball': 3}\n",
      "{'pitches': 1, 'strike': 0, 'pickoff': 0, 'ball_count': {'strike': 0, 'ball': 0}, 'event': ('S',), 'seq': ['marker for play not involving the batter', 'ball put into play by batter'], 'ball': 0}\n",
      "{'pitches': 4, 'strike': 1, 'pickoff': 0, 'ball_count': {'strike': 1, 'ball': 2}, 'event': ('HR',), 'seq': ['called strike', 'ball', 'ball', 'ball put into play by batter'], 'ball': 2}\n",
      "{'pitches': 3, 'strike': 2, 'pickoff': 0, 'ball_count': {'strike': 2, 'ball': 0}, 'event': ('DGR', 'D'), 'seq': ['called strike', 'called strike', 'ball put into play by batter'], 'ball': 0}\n",
      "{'pitches': 4, 'strike': 1, 'pickoff': 0, 'ball_count': {'strike': 1, 'ball': 2}, 'event': ('S',), 'seq': ['ball', 'foul', 'ball', 'ball put into play by batter'], 'ball': 2}\n",
      "{'pitches': 4, 'strike': 2, 'pickoff': 0, 'ball_count': {'strike': 2, 'ball': 1}, 'event': ('S',), 'seq': ['called strike', 'ball', 'called strike', 'ball put into play by batter'], 'ball': 1}\n",
      "{'pitches': 4, 'strike': 1, 'pickoff': 0, 'ball_count': {'strike': 1, 'ball': 2}, 'event': ('S',), 'seq': ['marker for play not involving the batter', 'ball', 'swinging strike', 'ball', 'ball put into play by batter'], 'ball': 2}\n",
      "{'pitches': 6, 'strike': 2, 'pickoff': 0, 'ball_count': {'strike': 2, 'ball': 3}, 'event': ('S',), 'seq': ['ball', 'swinging strike', 'ball', 'ball', 'called strike', 'ball put into play by batter'], 'ball': 3}\n",
      "{'pitches': 2, 'strike': 0, 'pickoff': 0, 'ball_count': {'strike': 0, 'ball': 1}, 'event': ('S',), 'seq': ['ball', 'ball put into play by batter'], 'ball': 1}\n",
      "{'pitches': 2, 'strike': 1, 'pickoff': 0, 'ball_count': {'strike': 1, 'ball': 0}, 'event': ('S',), 'seq': ['called strike', 'ball put into play by batter'], 'ball': 0}\n",
      "{'pitches': 7, 'strike': 4, 'pickoff': 0, 'ball_count': {'strike': 2, 'ball': 2}, 'event': ('DGR', 'D'), 'seq': ['foul', 'ball', 'ball', 'called strike', 'foul', 'foul', 'ball put into play by batter'], 'ball': 2}\n",
      "{'pitches': 5, 'strike': 2, 'pickoff': 0, 'ball_count': {'strike': 2, 'ball': 2}, 'event': ('S',), 'seq': ['called strike', 'ball', 'foul', 'ball', 'ball put into play by batter'], 'ball': 2}\n",
      "{'pitches': 3, 'strike': 1, 'pickoff': 0, 'ball_count': {'strike': 1, 'ball': 1}, 'event': ('S',), 'seq': ['called strike', 'ball', 'ball put into play by batter'], 'ball': 1}\n",
      "{'pitches': 2, 'strike': 0, 'pickoff': 0, 'ball_count': {'strike': 0, 'ball': 1}, 'event': ('HR',), 'seq': ['ball', 'ball put into play by batter'], 'ball': 1}\n",
      "{'pitches': 7, 'strike': 3, 'pickoff': 3, 'ball_count': {'strike': 2, 'ball': 3}, 'event': ('DGR', 'D'), 'seq': ['ball', 'pickoff throw to first', 'foul', 'pickoff throw to first', 'pickoff throw to first', 'ball', 'called strike', 'foul', 'ball', 'ball put into play by batter'], 'ball': 3}\n",
      "{'pitches': 2, 'strike': 0, 'pickoff': 0, 'ball_count': {'strike': 0, 'ball': 1}, 'event': ('HR',), 'seq': ['ball', 'ball put into play by batter'], 'ball': 1}\n",
      "{'pitches': 1, 'strike': 0, 'pickoff': 0, 'ball_count': {'strike': 0, 'ball': 0}, 'event': ('HR',), 'seq': ['ball put into play by batter'], 'ball': 0}\n",
      "{'pitches': 5, 'strike': 3, 'pickoff': 0, 'ball_count': {'strike': 2, 'ball': 1}, 'event': ('DGR', 'D'), 'seq': ['called strike', 'called strike', 'ball', 'foul', 'ball put into play by batter'], 'ball': 1}\n",
      "{'pitches': 3, 'strike': 1, 'pickoff': 0, 'ball_count': {'strike': 1, 'ball': 1}, 'event': ('HR',), 'seq': ['ball', 'called strike', 'ball put into play by batter'], 'ball': 1}\n",
      "{'pitches': 2, 'strike': 0, 'pickoff': 0, 'ball_count': {'strike': 0, 'ball': 1}, 'event': ('HR',), 'seq': ['ball', 'ball put into play by batter'], 'ball': 1}\n",
      "{'pitches': 2, 'strike': 0, 'pickoff': 0, 'ball_count': {'strike': 0, 'ball': 1}, 'event': ('DGR', 'D'), 'seq': ['ball', 'ball put into play by batter'], 'ball': 1}\n"
     ]
    }
   ],
   "source": [
    "from retrosheet_util import RetroSheetUtil\n",
    "for i, row in df2004.iterrows():\n",
    "    atbat = row.to_dict()\n",
    "    pitch_seq = RetroSheetUtil.get_pitch_sequence(atbat.get('pitch_seq_tx'), atbat.get('event_cd'))\n",
    "    print(pitch_seq)"
   ]
  },
  {
   "cell_type": "code",
   "execution_count": null,
   "metadata": {
    "collapsed": true
   },
   "outputs": [],
   "source": []
  }
 ],
 "metadata": {
  "kernelspec": {
   "display_name": "Python 3",
   "language": "python",
   "name": "python3"
  },
  "language_info": {
   "codemirror_mode": {
    "name": "ipython",
    "version": 3
   },
   "file_extension": ".py",
   "mimetype": "text/x-python",
   "name": "python",
   "nbconvert_exporter": "python",
   "pygments_lexer": "ipython3",
   "version": "3.4.3"
  }
 },
 "nbformat": 4,
 "nbformat_minor": 0
}
